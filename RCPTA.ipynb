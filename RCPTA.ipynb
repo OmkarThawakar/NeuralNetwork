{
 "cells": [
  {
   "cell_type": "code",
   "execution_count": 8,
   "metadata": {
    "collapsed": true
   },
   "outputs": [],
   "source": [
    "import numpy as np\n",
    "import matplotlib.pyplot as plt\n",
    "import pandas as pd\n",
    "from matplotlib.colors import ListedColormap"
   ]
  },
  {
   "cell_type": "code",
   "execution_count": 24,
   "metadata": {
    "collapsed": true
   },
   "outputs": [],
   "source": [
    "class RCPTA:\n",
    "    def __init__(self,neurons,eta=0.1):\n",
    "        self.neurons=neurons\n",
    "        self.eta=eta\n",
    "        \n",
    "    def init_weights(self,X,weights):\n",
    "    \tself.weights = np.array(weights)\n",
    "    \t'''if weights:\n",
    "    \t    self.weights = np.array(weights)\n",
    "    \telse:\n",
    "    \t    self.weights =  np.random.random((1+np.array(X).shape[1],self.neurons))\n",
    "    \t'''\n",
    "        \n",
    "    def aug_inputs(self,X):\n",
    "        for x in X:\n",
    "            x.append(-1)\n",
    "        return X\n",
    "\n",
    "    \n",
    "    def train(self,X,outputs,epochs):\n",
    "        self.weights =self.weights\n",
    "        print(\"Initial Weights : \",self.weights)\n",
    "        X = self.aug_inputs(X)\n",
    "        print(\"Augmented input pattern : \",X)\n",
    "        self.error_ = []\n",
    "        epoch=1\n",
    "        p = 0\n",
    "        for i in range(epochs):\n",
    "            print(\"Epoch : \",epoch)\n",
    "            err=0\n",
    "            for x,d in zip(X,outputs):\n",
    "                out = self.predict(x)\n",
    "                #print(\"D : \",d)\n",
    "                print(\"For input pattern : \",x)\n",
    "                print(\"Output of network : \",out)\n",
    "                err += 0.5*(d-out)**2\n",
    "                delta_=[]\n",
    "                for d_,o_ in zip(d,out):\n",
    "                    delta_.append(0.5*self.eta*(d_-o_)*self.gradient(o_))\n",
    "                #print(\"Delta : \",delta_)\n",
    "                del_w = []\n",
    "                \n",
    "                for del_ in delta_:\n",
    "                    del_w.append(sum(np.multiply(del_,x)))\n",
    "                    \n",
    "                #print(\"Delta_W is : \",del_w)\n",
    "                for i in range(len(self.weights)):\n",
    "                    self.weights[i] = self.weights[i]+del_w[i]    \n",
    "               \n",
    "                print(\"Weights : \",self.weights)\n",
    "                p+=1\n",
    "                self.error_.append(sum(np.array(err)**2)/2)\n",
    "                \n",
    "            epoch+=1\n",
    "            print(\"Error : \",sum(np.array(err)**2)/2)\n",
    "            if self.error_[-1] <=0.1 :\n",
    "                break\n",
    "            \n",
    "        print(\"Training Steps Required are {} .\".format(p))\n",
    "        return self\n",
    "                                                                           \n",
    "    def get_weights(self):\n",
    "        return self.weights\n",
    "                                                                           \n",
    "    def net_input(self,X):\n",
    "        return np.dot(self.weights,X)\n",
    "    \n",
    "    def activation(self,net):\n",
    "        return (1-np.exp(-net))/(1+np.exp(-net))\n",
    "        '''\n",
    "        res = []\n",
    "        for net_ in net:\n",
    "            if net_>0:\n",
    "                res.append(net_)\n",
    "            else :\n",
    "                res.append(0)\n",
    "        return np.array(res)\n",
    "        '''\n",
    "    \n",
    "    def gradient(self,out):\n",
    "        #return (1-out**2)\n",
    "        if out>0:\n",
    "            return 1\n",
    "        else :\n",
    "            return 0\n",
    "    \n",
    "    def predict(self,x):\n",
    "        #print(\"Net : \",self.net_input(np.array(x)))\n",
    "        net = self.net_input(np.array(x))\n",
    "        return self.activation(net)\n",
    "        "
   ]
  },
  {
   "cell_type": "code",
   "execution_count": 25,
   "metadata": {
    "scrolled": false
   },
   "outputs": [
    {
     "name": "stdout",
     "output_type": "stream",
     "text": [
      "Initial Weights :  [[ 1 -2  0]\n",
      " [ 0 -1  2]\n",
      " [ 1  3 -1]]\n",
      "Augmented input pattern :  [[10, 2, -1], [2, -5, -1], [-5, 5, -1]]\n",
      "Epoch :  1\n",
      "For input pattern :  [10, 2, -1]\n",
      "Output of network :  [ 0.99505475 -0.96402758  0.99999992]\n",
      "Weights :  [[  1  -1   0]\n",
      " [  0  -1   2]\n",
      " [ -9  -7 -11]]\n",
      "For input pattern :  [2, -5, -1]\n",
      "Output of network :  [ 0.9981779   0.90514825  1.        ]\n",
      "Weights :  [[ 4  2  3]\n",
      " [ 0 -1  1]\n",
      " [-5 -3 -7]]\n",
      "For input pattern :  [-5, 5, -1]\n",
      "Output of network :  [-0.99999548 -0.99505475  0.99999992]\n",
      "Weights :  [[ 4  2  3]\n",
      " [ 0 -1  1]\n",
      " [-5 -3 -7]]\n",
      "Error :  9.99275859392\n",
      "Epoch :  2\n",
      "For input pattern :  [10, 2, -1]\n",
      "Output of network :  [ 1.         -0.90514825 -1.        ]\n",
      "Weights :  [[ 4  2  3]\n",
      " [ 0 -1  1]\n",
      " [-5 -3 -7]]\n",
      "For input pattern :  [2, -5, -1]\n",
      "Output of network :  [-0.9866143   0.96402758  0.99998771]\n",
      "Weights :  [[ 4  2  3]\n",
      " [ 0 -1  0]\n",
      " [-1  0 -3]]\n",
      "For input pattern :  [-5, 5, -1]\n",
      "Output of network :  [-0.99999548 -0.9866143   0.9993293 ]\n",
      "Weights :  [[ 4  2  3]\n",
      " [ 0 -1  0]\n",
      " [-1  0 -3]]\n",
      "Error :  1.99996500363\n",
      "Epoch :  3\n",
      "For input pattern :  [10, 2, -1]\n",
      "Output of network :  [ 1.         -0.76159416 -0.9981779 ]\n",
      "Weights :  [[ 4  2  3]\n",
      " [ 0 -1  0]\n",
      " [-1  0 -3]]\n",
      "For input pattern :  [2, -5, -1]\n",
      "Output of network :  [-0.9866143   0.9866143   0.46211716]\n",
      "Weights :  [[ 4  2  3]\n",
      " [ 0 -1  0]\n",
      " [ 1  2  0]]\n",
      "For input pattern :  [-5, 5, -1]\n",
      "Output of network :  [-0.99999548 -0.9866143   0.9866143 ]\n",
      "Weights :  [[ 4  2  3]\n",
      " [ 0 -1  0]\n",
      " [ 0  1  0]]\n",
      "Error :  0.571772895177\n",
      "Epoch :  4\n",
      "For input pattern :  [10, 2, -1]\n",
      "Output of network :  [ 1.         -0.76159416  0.76159416]\n",
      "Weights :  [[ 4  2  3]\n",
      " [ 0 -1  0]\n",
      " [-9 -8 -9]]\n",
      "For input pattern :  [2, -5, -1]\n",
      "Output of network :  [-0.9866143  0.9866143  1.       ]\n",
      "Weights :  [[ 4  2  3]\n",
      " [ 0 -1  0]\n",
      " [-5 -4 -5]]\n",
      "For input pattern :  [-5, 5, -1]\n",
      "Output of network :  [-0.99999548 -0.9866143   0.9999092 ]\n",
      "Weights :  [[ 4  2  3]\n",
      " [ 0 -1  0]\n",
      " [-5 -4 -5]]\n",
      "Error :  6.30736502565\n",
      "Epoch :  5\n",
      "For input pattern :  [10, 2, -1]\n",
      "Output of network :  [ 1.         -0.76159416 -1.        ]\n",
      "Weights :  [[ 4  2  3]\n",
      " [ 0 -1  0]\n",
      " [-5 -4 -5]]\n",
      "For input pattern :  [2, -5, -1]\n",
      "Output of network :  [-0.9866143   0.9866143   0.99999939]\n",
      "Weights :  [[ 4  2  3]\n",
      " [ 0 -1  0]\n",
      " [-1  0 -1]]\n",
      "For input pattern :  [-5, 5, -1]\n",
      "Output of network :  [-0.99999548 -0.9866143   0.99505475]\n",
      "Weights :  [[ 4  2  3]\n",
      " [ 0 -1  0]\n",
      " [-1  0 -1]]\n",
      "Error :  2.00043093084\n",
      "Epoch :  6\n",
      "For input pattern :  [10, 2, -1]\n",
      "Output of network :  [ 1.         -0.76159416 -0.99975321]\n",
      "Weights :  [[ 4  2  3]\n",
      " [ 0 -1  0]\n",
      " [-1  0 -1]]\n",
      "For input pattern :  [2, -5, -1]\n",
      "Output of network :  [-0.9866143   0.9866143  -0.46211716]\n",
      "Weights :  [[ 4  2  3]\n",
      " [ 0 -1  0]\n",
      " [-1  0 -1]]\n",
      "For input pattern :  [-5, 5, -1]\n",
      "Output of network :  [-0.99999548 -0.9866143   0.99505475]\n",
      "Weights :  [[ 4  2  3]\n",
      " [ 0 -1  0]\n",
      " [-1  0 -1]]\n",
      "Error :  0.0108738055697\n",
      "Training Steps Required are 18 .\n"
     ]
    },
    {
     "data": {
      "text/plain": [
       "<__main__.RCPTA at 0x1152f74e0>"
      ]
     },
     "execution_count": 25,
     "metadata": {},
     "output_type": "execute_result"
    }
   ],
   "source": [
    "X = [[10,2],[2,-5],[-5,5]]\n",
    "d = [[1,-1,-1],[-1,1,-1],[-1,-1,1]]\n",
    "weights = [[1,-2,0],[0,-1,2],[1,3,-1]]\n",
    "\n",
    "neurons = RCPTA(3,eta=1)\n",
    "neurons.init_weights(X,weights)\n",
    "#print(\"Initial Weights of Neuron are : \",neurons.weights)\n",
    "neurons.train(X,d,1000)"
   ]
  },
  {
   "cell_type": "code",
   "execution_count": 21,
   "metadata": {},
   "outputs": [
    {
     "data": {
      "text/plain": [
       "0.010873805569745694"
      ]
     },
     "execution_count": 21,
     "metadata": {},
     "output_type": "execute_result"
    }
   ],
   "source": [
    "neurons.error_[-1]"
   ]
  },
  {
   "cell_type": "code",
   "execution_count": 27,
   "metadata": {},
   "outputs": [
    {
     "data": {
      "image/png": "[encoded data removed]",
      "text/plain": [
       "<matplotlib.figure.Figure at 0x1151d18d0>"
      ]
     },
     "metadata": {},
     "output_type": "display_data"
    }
   ],
   "source": [
    "plt.plot(neurons.error_)\n",
    "plt.title(\"Error Plot\")\n",
    "plt.show()"
   ]
  },
  {
   "cell_type": "code",
   "execution_count": 28,
   "metadata": {},
   "outputs": [
    {
     "data": {
      "text/plain": [
       "array([ 1.        , -0.76159416, -0.9999666 ])"
      ]
     },
     "execution_count": 28,
     "metadata": {},
     "output_type": "execute_result"
    }
   ],
   "source": [
    "neurons.predict([10,2,1])"
   ]
  },
  {
   "cell_type": "code",
   "execution_count": 29,
   "metadata": {},
   "outputs": [
    {
     "name": "stdout",
     "output_type": "stream",
     "text": [
      "Final Weights of Neuron are : \n"
     ]
    },
    {
     "data": {
      "text/plain": [
       "array([[ 4,  2,  3],\n",
       "       [ 0, -1,  0],\n",
       "       [-1,  0, -1]])"
      ]
     },
     "execution_count": 29,
     "metadata": {},
     "output_type": "execute_result"
    }
   ],
   "source": [
    "print(\"Final Weights of Neuron are : \")\n",
    "neurons.weights"
   ]
  },
  {
   "cell_type": "markdown",
   "metadata": {},
   "source": [
    "### Visualization of Decision Boundaries"
   ]
  },
  {
   "cell_type": "code",
   "execution_count": 36,
   "metadata": {},
   "outputs": [
    {
     "data": {
      "image/png": "[encoded data removed]",
      "text/plain": [
       "<matplotlib.figure.Figure at 0x11a90e9e8>"
      ]
     },
     "metadata": {},
     "output_type": "display_data"
    }
   ],
   "source": [
    "for i,j in zip(X,d):\n",
    "    plt.scatter(i[0],i[1],c='k' ,marker='x' if j==[1,-1,-1]  else '*' if j==[-1,1,-1] else 'o')\n",
    "\n",
    "    \n",
    "x = np.arange(-10,15)\n",
    "a1,b1,c1 = neurons.weights[0]\n",
    "y1 = (c1-a1*x)/b1\n",
    "plt.plot(x,y1,c='g',label='{}x+{}y-{}=0 | class : x'.format(a1,b1,c1))\n",
    "\n",
    "a2,b2,c2 = neurons.weights[1]\n",
    "y2 = (c2-a2*x)/b2\n",
    "plt.plot(x,y2,c='b',label='{}x+{}y-{}=0 | class : *'.format(a2,b2,c2))\n",
    "\n",
    "a3,b3,c3 = neurons.weights[2]\n",
    "if b3==0:\n",
    "    y3 = (c3-a3*x)\n",
    "else:\n",
    "    y3 = (c3-a3*x)/b3\n",
    "plt.plot(x,y3,c='r',label='{}x+{}y-{}=0 | class : o'.format(a3,b3,c3))\n",
    "\n",
    "plt.ylim([-10,10])\n",
    "plt.legend()\n",
    "plt.show()"
   ]
  },
  {
   "cell_type": "code",
   "execution_count": null,
   "metadata": {
    "collapsed": true
   },
   "outputs": [],
   "source": []
  }
 ],
 "metadata": {
  "kernelspec": {
   "display_name": "Python 3",
   "language": "python",
   "name": "python3"
  },
  "language_info": {
   "codemirror_mode": {
    "name": "ipython",
    "version": 3
   },
   "file_extension": ".py",
   "mimetype": "text/x-python",
   "name": "python",
   "nbconvert_exporter": "python",
   "pygments_lexer": "ipython3",
   "version": "3.6.3"
  }
 },
 "nbformat": 4,
 "nbformat_minor": 2
}
