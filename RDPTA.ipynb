{
 "cells": [
  {
   "cell_type": "markdown",
   "metadata": {},
   "source": [
    "## Name : Omkar Thawakar\n",
    "Reg No : 2015BCS003 , Roll No : A-08\n",
    "#### Aim : Implement R- Category Descrete Perceptron clasifier"
   ]
  },
  {
   "cell_type": "code",
   "execution_count": 1,
   "metadata": {},
   "outputs": [],
   "source": [
    "import numpy as np\n",
    "import matplotlib.pyplot as plt\n",
    "import pandas as pd\n",
    "from matplotlib.colors import ListedColormap\n",
    "\n",
    "class RDPTA:\n",
    "    def __init__(self,neurons,eta=1):\n",
    "        self.neurons=neurons\n",
    "        self.eta=eta\n",
    "        \n",
    "    def init_weights(self,X,weights):\n",
    "    \tself.weights = np.array(weights)\n",
    "    \t'''if weights:\n",
    "    \t    self.weights = np.array(weights)\n",
    "    \telse:\n",
    "    \t    self.weights =  np.random.random((1+np.array(X).shape[1],self.neurons))\n",
    "    \t'''\n",
    "    def aug_inputs(self,X):\n",
    "        for x in X:\n",
    "            x.append(1)\n",
    "        return X\n",
    "\n",
    "    \n",
    "    def train(self,X,outputs,epochs):\n",
    "        self.weights =self.weights\n",
    "        print(\"Initial Weights : \",self.weights)\n",
    "        X = self.aug_inputs(X)\n",
    "        print(\"Augmented input pattern : \",X)\n",
    "        self.error_ = []\n",
    "        epoch=1\n",
    "        p = 0\n",
    "        for i in range(epochs):\n",
    "            print(\"Epoch : \",epoch)\n",
    "            err=0\n",
    "            for x,d in zip(X,outputs):\n",
    "                out = self.predict(x)\n",
    "                #print(\"D : \",d)\n",
    "                print(\"For input pattern : \",x)\n",
    "                print(\"Output of network : \",out)\n",
    "                err += 0.5*(d-out)**2\n",
    "                delta_=[]\n",
    "                for d_,o_ in zip(d,out):\n",
    "                    delta_.append(0.5*self.eta*(d_-o_))\n",
    "                #print(\"Delta : \",delta_)\n",
    "                del_w = []\n",
    "                for del_ in delta_:\n",
    "                    del_w.append(np.multiply(del_,x))\n",
    "                #print(\"Delta_W is : \",del_w)\n",
    "                for i in range(len(self.weights)):\n",
    "                    self.weights[i] = self.weights[i]+del_w[i]    \n",
    "                #self.weights = self.weights+ 0.5*self.eta*(d-out)*x\n",
    "                print(\"Weights : \",self.weights)\n",
    "                p+=1\n",
    "                self.error_.append(err)\n",
    "            print(\"Error : \",err)\n",
    "        print(\"Training Steps Required are {} .\".format(p))\n",
    "        return self\n",
    "                                                                           \n",
    "    def get_weights(self):\n",
    "        return self.weights\n",
    "                                                                           \n",
    "    def net_input(self,X):\n",
    "        return np.dot(self.weights,X)\n",
    "    \n",
    "    def predict(self,x):\n",
    "        print(\"Net : \",self.net_input(np.array(x)))\n",
    "        return np.where(self.net_input(np.array(x))>0,1,-1)"
   ]
  },
  {
   "cell_type": "code",
   "execution_count": 2,
   "metadata": {},
   "outputs": [
    {
     "name": "stdout",
     "output_type": "stream",
     "text": [
      "Initial Weights of Neuron are :  [[0 0 0]\n",
      " [0 0 0]\n",
      " [0 0 0]]\n",
      "Initial Weights :  [[0 0 0]\n",
      " [0 0 0]\n",
      " [0 0 0]]\n",
      "Augmented input pattern :  [[0.8, 0.5, 0, -1], [0, 0.2, 0.3, -1], [0.9, 0.7, 0.3, -1], [0.2, 0.1, 1.3, -1], [1, 0.8, 0.5, -1], [0.2, 0.7, 0.8, -1]]\n",
      "Epoch :  1\n"
     ]
    },
    {
     "ename": "ValueError",
     "evalue": "shapes (3,3) and (4,) not aligned: 3 (dim 1) != 4 (dim 0)",
     "output_type": "error",
     "traceback": [
      "\u001b[0;31m---------------------------------------------------------------------------\u001b[0m",
      "\u001b[0;31mValueError\u001b[0m                                Traceback (most recent call last)",
      "\u001b[0;32m<ipython-input-2-aaabf0244544>\u001b[0m in \u001b[0;36m<module>\u001b[0;34m()\u001b[0m\n\u001b[1;32m      6\u001b[0m \u001b[0mneurons\u001b[0m\u001b[0;34m.\u001b[0m\u001b[0minit_weights\u001b[0m\u001b[0;34m(\u001b[0m\u001b[0mX\u001b[0m\u001b[0;34m,\u001b[0m\u001b[0mweights\u001b[0m\u001b[0;34m)\u001b[0m\u001b[0;34m\u001b[0m\u001b[0m\n\u001b[1;32m      7\u001b[0m \u001b[0mprint\u001b[0m\u001b[0;34m(\u001b[0m\u001b[0;34m\"Initial Weights of Neuron are : \"\u001b[0m\u001b[0;34m,\u001b[0m\u001b[0mneurons\u001b[0m\u001b[0;34m.\u001b[0m\u001b[0mweights\u001b[0m\u001b[0;34m)\u001b[0m\u001b[0;34m\u001b[0m\u001b[0m\n\u001b[0;32m----> 8\u001b[0;31m \u001b[0mneurons\u001b[0m\u001b[0;34m.\u001b[0m\u001b[0mtrain\u001b[0m\u001b[0;34m(\u001b[0m\u001b[0mX\u001b[0m\u001b[0;34m,\u001b[0m\u001b[0md\u001b[0m\u001b[0;34m,\u001b[0m\u001b[0;36m4\u001b[0m\u001b[0;34m)\u001b[0m\u001b[0;34m\u001b[0m\u001b[0m\n\u001b[0m",
      "\u001b[0;32m<ipython-input-1-0dcfe3c37c78>\u001b[0m in \u001b[0;36mtrain\u001b[0;34m(self, X, outputs, epochs)\u001b[0m\n\u001b[1;32m     34\u001b[0m             \u001b[0merr\u001b[0m\u001b[0;34m=\u001b[0m\u001b[0;36m0\u001b[0m\u001b[0;34m\u001b[0m\u001b[0m\n\u001b[1;32m     35\u001b[0m             \u001b[0;32mfor\u001b[0m \u001b[0mx\u001b[0m\u001b[0;34m,\u001b[0m\u001b[0md\u001b[0m \u001b[0;32min\u001b[0m \u001b[0mzip\u001b[0m\u001b[0;34m(\u001b[0m\u001b[0mX\u001b[0m\u001b[0;34m,\u001b[0m\u001b[0moutputs\u001b[0m\u001b[0;34m)\u001b[0m\u001b[0;34m:\u001b[0m\u001b[0;34m\u001b[0m\u001b[0m\n\u001b[0;32m---> 36\u001b[0;31m                 \u001b[0mout\u001b[0m \u001b[0;34m=\u001b[0m \u001b[0mself\u001b[0m\u001b[0;34m.\u001b[0m\u001b[0mpredict\u001b[0m\u001b[0;34m(\u001b[0m\u001b[0mx\u001b[0m\u001b[0;34m)\u001b[0m\u001b[0;34m\u001b[0m\u001b[0m\n\u001b[0m\u001b[1;32m     37\u001b[0m                 \u001b[0;31m#print(\"D : \",d)\u001b[0m\u001b[0;34m\u001b[0m\u001b[0;34m\u001b[0m\u001b[0m\n\u001b[1;32m     38\u001b[0m                 \u001b[0mprint\u001b[0m\u001b[0;34m(\u001b[0m\u001b[0;34m\"For input pattern : \"\u001b[0m\u001b[0;34m,\u001b[0m\u001b[0mx\u001b[0m\u001b[0;34m)\u001b[0m\u001b[0;34m\u001b[0m\u001b[0m\n",
      "\u001b[0;32m<ipython-input-1-0dcfe3c37c78>\u001b[0m in \u001b[0;36mpredict\u001b[0;34m(self, x)\u001b[0m\n\u001b[1;32m     64\u001b[0m \u001b[0;34m\u001b[0m\u001b[0m\n\u001b[1;32m     65\u001b[0m     \u001b[0;32mdef\u001b[0m \u001b[0mpredict\u001b[0m\u001b[0;34m(\u001b[0m\u001b[0mself\u001b[0m\u001b[0;34m,\u001b[0m\u001b[0mx\u001b[0m\u001b[0;34m)\u001b[0m\u001b[0;34m:\u001b[0m\u001b[0;34m\u001b[0m\u001b[0m\n\u001b[0;32m---> 66\u001b[0;31m         \u001b[0mprint\u001b[0m\u001b[0;34m(\u001b[0m\u001b[0;34m\"Net : \"\u001b[0m\u001b[0;34m,\u001b[0m\u001b[0mself\u001b[0m\u001b[0;34m.\u001b[0m\u001b[0mnet_input\u001b[0m\u001b[0;34m(\u001b[0m\u001b[0mnp\u001b[0m\u001b[0;34m.\u001b[0m\u001b[0marray\u001b[0m\u001b[0;34m(\u001b[0m\u001b[0mx\u001b[0m\u001b[0;34m)\u001b[0m\u001b[0;34m)\u001b[0m\u001b[0;34m)\u001b[0m\u001b[0;34m\u001b[0m\u001b[0m\n\u001b[0m\u001b[1;32m     67\u001b[0m         \u001b[0;32mreturn\u001b[0m \u001b[0mnp\u001b[0m\u001b[0;34m.\u001b[0m\u001b[0mwhere\u001b[0m\u001b[0;34m(\u001b[0m\u001b[0mself\u001b[0m\u001b[0;34m.\u001b[0m\u001b[0mnet_input\u001b[0m\u001b[0;34m(\u001b[0m\u001b[0mnp\u001b[0m\u001b[0;34m.\u001b[0m\u001b[0marray\u001b[0m\u001b[0;34m(\u001b[0m\u001b[0mx\u001b[0m\u001b[0;34m)\u001b[0m\u001b[0;34m)\u001b[0m\u001b[0;34m>\u001b[0m\u001b[0;36m0\u001b[0m\u001b[0;34m,\u001b[0m\u001b[0;36m1\u001b[0m\u001b[0;34m,\u001b[0m\u001b[0;34m-\u001b[0m\u001b[0;36m1\u001b[0m\u001b[0;34m)\u001b[0m\u001b[0;34m\u001b[0m\u001b[0m\n",
      "\u001b[0;32m<ipython-input-1-0dcfe3c37c78>\u001b[0m in \u001b[0;36mnet_input\u001b[0;34m(self, X)\u001b[0m\n\u001b[1;32m     61\u001b[0m \u001b[0;34m\u001b[0m\u001b[0m\n\u001b[1;32m     62\u001b[0m     \u001b[0;32mdef\u001b[0m \u001b[0mnet_input\u001b[0m\u001b[0;34m(\u001b[0m\u001b[0mself\u001b[0m\u001b[0;34m,\u001b[0m\u001b[0mX\u001b[0m\u001b[0;34m)\u001b[0m\u001b[0;34m:\u001b[0m\u001b[0;34m\u001b[0m\u001b[0m\n\u001b[0;32m---> 63\u001b[0;31m         \u001b[0;32mreturn\u001b[0m \u001b[0mnp\u001b[0m\u001b[0;34m.\u001b[0m\u001b[0mdot\u001b[0m\u001b[0;34m(\u001b[0m\u001b[0mself\u001b[0m\u001b[0;34m.\u001b[0m\u001b[0mweights\u001b[0m\u001b[0;34m,\u001b[0m\u001b[0mX\u001b[0m\u001b[0;34m)\u001b[0m\u001b[0;34m\u001b[0m\u001b[0m\n\u001b[0m\u001b[1;32m     64\u001b[0m \u001b[0;34m\u001b[0m\u001b[0m\n\u001b[1;32m     65\u001b[0m     \u001b[0;32mdef\u001b[0m \u001b[0mpredict\u001b[0m\u001b[0;34m(\u001b[0m\u001b[0mself\u001b[0m\u001b[0;34m,\u001b[0m\u001b[0mx\u001b[0m\u001b[0;34m)\u001b[0m\u001b[0;34m:\u001b[0m\u001b[0;34m\u001b[0m\u001b[0m\n",
      "\u001b[0;31mValueError\u001b[0m: shapes (3,3) and (4,) not aligned: 3 (dim 1) != 4 (dim 0)"
     ]
    }
   ],
   "source": [
    "X = [[0.8,0.5,0],[0,0.2,0.3],[0.9,0.7,0.3],[0.2,0.1,1.3],[1,0.8,0.5],[0.2,0.7,0.8]]\n",
    "d = [[-1],[1],[-1],[1],[-1],[1]]\n",
    "weights = [[0,0,0],[0,0,0],[0,0,0]]\n",
    "\n",
    "neurons = RDPTA(1)\n",
    "neurons.init_weights(X,weights)\n",
    "print(\"Initial Weights of Neuron are : \",neurons.weights)\n",
    "neurons.train(X,d,4)"
   ]
  },
  {
   "cell_type": "code",
   "execution_count": 114,
   "metadata": {},
   "outputs": [
    {
     "name": "stdout",
     "output_type": "stream",
     "text": [
      "Final Weights of Neuron are : \n"
     ]
    },
    {
     "data": {
      "text/plain": [
       "array([[ 5,  3,  5],\n",
       "       [ 0, -1,  2],\n",
       "       [-9,  1,  0]])"
      ]
     },
     "execution_count": 114,
     "metadata": {},
     "output_type": "execute_result"
    }
   ],
   "source": [
    "print(\"Final Weights of Neuron are : \")\n",
    "neurons.weights"
   ]
  },
  {
   "cell_type": "markdown",
   "metadata": {},
   "source": [
    "### Visualization of Decision Boundaries"
   ]
  },
  {
   "cell_type": "code",
   "execution_count": 115,
   "metadata": {},
   "outputs": [
    {
     "data": {
      "image/png": "[encoded data removed]",
      "text/plain": [
       "<matplotlib.figure.Figure at 0x7fbd4bae56a0>"
      ]
     },
     "metadata": {},
     "output_type": "display_data"
    }
   ],
   "source": [
    "for i,j in zip(X,d):\n",
    "    plt.scatter(i[0],i[1],c='k' ,marker='x' if j==[1,-1,-1]  else '*' if j==[-1,1,-1] else 'o')\n",
    "\n",
    "    \n",
    "x = np.arange(-10,15)\n",
    "a1,b1,c1 = neurons.weights[0]\n",
    "y1 = (c1-a1*x)/b1\n",
    "plt.plot(x,y1,c='g',label='5x+3y-5=0')\n",
    "\n",
    "a2,b2,c2 = neurons.weights[1]\n",
    "y2 = (c2-a2*x)/b2\n",
    "plt.plot(x,y2,c='b',label='x-y-2=0')\n",
    "\n",
    "a3,b3,c3 = neurons.weights[2]\n",
    "y3 = (c3-a3*x)/b3\n",
    "plt.plot(x,y3,c='r',label='-9x+y-0=0')\n",
    "\n",
    "#fill Indecision regions\n",
    "y4 = np.maximum(y1, y3)\n",
    "plt.fill_between(x,y4,150,color='grey',alpha=0.5,label='Indecision region')\n",
    "y5 = np.minimum(y1, y2)\n",
    "plt.fill_between(x,y5,y2,color='grey',alpha=0.5)\n",
    "y6 = np.minimum(y2, y3)\n",
    "plt.fill_between(x,y6,y2,color='grey',alpha=0.5)\n",
    "y7 = np.minimum(y1,y3)\n",
    "y8 = np.minimum(1.5,y2)\n",
    "plt.fill_between(x,y2,y7,color='grey',alpha=0.5)\n",
    "\n",
    "\n",
    "\n",
    "plt.ylim([-10,10])\n",
    "plt.legend()\n",
    "plt.show()"
   ]
  },
  {
   "cell_type": "code",
   "execution_count": null,
   "metadata": {},
   "outputs": [],
   "source": []
  },
  {
   "cell_type": "code",
   "execution_count": null,
   "metadata": {},
   "outputs": [],
   "source": []
  },
  {
   "cell_type": "code",
   "execution_count": null,
   "metadata": {},
   "outputs": [],
   "source": []
  },
  {
   "cell_type": "code",
   "execution_count": null,
   "metadata": {},
   "outputs": [],
   "source": []
  },
  {
   "cell_type": "code",
   "execution_count": null,
   "metadata": {},
   "outputs": [],
   "source": []
  },
  {
   "cell_type": "code",
   "execution_count": null,
   "metadata": {},
   "outputs": [],
   "source": []
  },
  {
   "cell_type": "code",
   "execution_count": null,
   "metadata": {},
   "outputs": [],
   "source": []
  },
  {
   "cell_type": "code",
   "execution_count": null,
   "metadata": {},
   "outputs": [],
   "source": []
  },
  {
   "cell_type": "code",
   "execution_count": null,
   "metadata": {},
   "outputs": [],
   "source": []
  },
  {
   "cell_type": "code",
   "execution_count": 5,
   "metadata": {},
   "outputs": [
    {
     "ename": "ValueError",
     "evalue": "shapes (3,3) and (4,) not aligned: 3 (dim 1) != 4 (dim 0)",
     "output_type": "error",
     "traceback": [
      "\u001b[0;31m---------------------------------------------------------------------------\u001b[0m",
      "\u001b[0;31mValueError\u001b[0m                                Traceback (most recent call last)",
      "\u001b[0;32m<ipython-input-5-b868e3489955>\u001b[0m in \u001b[0;36m<module>\u001b[0;34m()\u001b[0m\n\u001b[1;32m     92\u001b[0m         \u001b[0ms\u001b[0m\u001b[0;34m.\u001b[0m\u001b[0minit_params\u001b[0m\u001b[0;34m(\u001b[0m\u001b[0;34m)\u001b[0m\u001b[0;34m\u001b[0m\u001b[0m\n\u001b[1;32m     93\u001b[0m         \u001b[0ms\u001b[0m\u001b[0;34m.\u001b[0m\u001b[0mset_weights\u001b[0m\u001b[0;34m(\u001b[0m\u001b[0mweights\u001b[0m\u001b[0;34m)\u001b[0m\u001b[0;34m\u001b[0m\u001b[0m\n\u001b[0;32m---> 94\u001b[0;31m         \u001b[0ms\u001b[0m\u001b[0;34m.\u001b[0m\u001b[0mtrain\u001b[0m\u001b[0;34m(\u001b[0m\u001b[0;34m)\u001b[0m\u001b[0;34m\u001b[0m\u001b[0m\n\u001b[0m\u001b[1;32m     95\u001b[0m \u001b[0;34m\u001b[0m\u001b[0m\n\u001b[1;32m     96\u001b[0m \u001b[0;34m\u001b[0m\u001b[0m\n",
      "\u001b[0;32m<ipython-input-5-b868e3489955>\u001b[0m in \u001b[0;36mtrain\u001b[0;34m(self, interactive)\u001b[0m\n\u001b[1;32m     53\u001b[0m                                         \u001b[0mprint\u001b[0m\u001b[0;34m(\u001b[0m\u001b[0;34m'%20s : %s'\u001b[0m \u001b[0;34m%\u001b[0m \u001b[0;34m(\u001b[0m\u001b[0;34m'W (before adjust)'\u001b[0m\u001b[0;34m,\u001b[0m \u001b[0;34m(\u001b[0m\u001b[0mself\u001b[0m\u001b[0;34m.\u001b[0m\u001b[0mW\u001b[0m\u001b[0;34m)\u001b[0m\u001b[0;34m)\u001b[0m\u001b[0;34m)\u001b[0m\u001b[0;34m\u001b[0m\u001b[0m\n\u001b[1;32m     54\u001b[0m                                         \u001b[0mprint\u001b[0m\u001b[0;34m(\u001b[0m\u001b[0;34m'%20s : %s'\u001b[0m \u001b[0;34m%\u001b[0m \u001b[0;34m(\u001b[0m\u001b[0;34m'Input'\u001b[0m\u001b[0;34m,\u001b[0m \u001b[0;34m(\u001b[0m\u001b[0mself\u001b[0m\u001b[0;34m.\u001b[0m\u001b[0maug_x\u001b[0m\u001b[0;34m[\u001b[0m\u001b[0mstep\u001b[0m\u001b[0;34m]\u001b[0m\u001b[0;34m)\u001b[0m\u001b[0;34m)\u001b[0m\u001b[0;34m)\u001b[0m\u001b[0;34m\u001b[0m\u001b[0m\n\u001b[0;32m---> 55\u001b[0;31m                                 \u001b[0mnet\u001b[0m \u001b[0;34m=\u001b[0m \u001b[0mnp\u001b[0m\u001b[0;34m.\u001b[0m\u001b[0mdot\u001b[0m\u001b[0;34m(\u001b[0m\u001b[0mself\u001b[0m\u001b[0;34m.\u001b[0m\u001b[0mW\u001b[0m\u001b[0;34m.\u001b[0m\u001b[0mT\u001b[0m\u001b[0;34m,\u001b[0m \u001b[0mself\u001b[0m\u001b[0;34m.\u001b[0m\u001b[0maug_x\u001b[0m\u001b[0;34m[\u001b[0m\u001b[0mstep\u001b[0m\u001b[0;34m]\u001b[0m\u001b[0;34m)\u001b[0m\u001b[0;34m\u001b[0m\u001b[0m\n\u001b[0m\u001b[1;32m     56\u001b[0m                                 \u001b[0;32mif\u001b[0m \u001b[0mnet\u001b[0m \u001b[0;34m==\u001b[0m \u001b[0;36m0\u001b[0m\u001b[0;34m:\u001b[0m\u001b[0;34m\u001b[0m\u001b[0m\n\u001b[1;32m     57\u001b[0m                                         \u001b[0;31m# if self.y_input[step] == -1:\u001b[0m\u001b[0;34m\u001b[0m\u001b[0;34m\u001b[0m\u001b[0m\n",
      "\u001b[0;31mValueError\u001b[0m: shapes (3,3) and (4,) not aligned: 3 (dim 1) != 4 (dim 0)"
     ]
    }
   ],
   "source": [
    "import numpy as np\n",
    "\n",
    "class DiscretePerceptron:\n",
    "\n",
    "\tdef __init__(self, x_input, y_input, activation=None):\n",
    "\t\t'''\n",
    "\t\tx_input = data points\n",
    "\t\ty_input = target labels\n",
    "\t\t'''\n",
    "\t\tif len(x_input) != len(y_input):\n",
    "\t\t\traise ValueError('X and Y must have length.')\n",
    "\n",
    "\t\tself.n_dims = x_input.shape[-1]\n",
    "\n",
    "\t\tself.aug_x = self.augment_input(x_input)\n",
    "\n",
    "\t\tself.y_input = y_input\n",
    "\t\tif activation is None:\n",
    "\t\t\tself.__activation = self.__threshold\n",
    "\n",
    "\tdef init_params(self):\n",
    "\t\tself.P = len(self.aug_x)\n",
    "\t\tself.error = 0\n",
    "\t\tself.p = 1\n",
    "\t\tself.k = 1\n",
    "\t\tself.c = 1 # learning rate\n",
    "\t\tself.W = np.random.random((self.aug_x.shape[-1]))\n",
    "\n",
    "\tdef augment_input(self, x_input):\n",
    "\t\t_input = []\n",
    "\t\tfor i in x_input:\n",
    "\t\t\t_input.append(np.concatenate((i, [1])))\n",
    "\t\treturn np.array(_input)\n",
    "\n",
    "\tdef set_weights(self, W):\n",
    "\t\tself.W = np.array(W)\n",
    "\n",
    "\tdef __threshold(self, net):\n",
    "\t\tif net >= 0:\n",
    "\t\t\treturn 1\n",
    "\t\telse:\n",
    "\t\t\treturn -1\n",
    "\n",
    "\tdef train(self, interactive=False):\n",
    "\t\tstop = False\n",
    "\t\twhile not stop:\n",
    "\t\t\tif interactive:\n",
    "\t\t\t\tprint('Training Cycle #{}:'.format(self.k))\n",
    "\t\t\tself.E = 0\n",
    "\t\t\tfor step in range(self.P):\n",
    "\t\t\t\tif interactive:\n",
    "\t\t\t\t\tprint('Step #{}:'.format(self.p))\n",
    "\t\t\t\t\tprint('%20s : %s' % ('W (before adjust)', (self.W)))\n",
    "\t\t\t\t\tprint('%20s : %s' % ('Input', (self.aug_x[step])))\n",
    "\t\t\t\tnet = np.dot(self.W.T, self.aug_x[step])\n",
    "\t\t\t\tif net == 0:\n",
    "\t\t\t\t\t# if self.y_input[step] == -1:\n",
    "\t\t\t\t\t# \toutput = 1\n",
    "\t\t\t\t\t# elif self.y_input[step] == 1:\n",
    "\t\t\t\t\t# \toutput = -1\n",
    "\t\t\t\t\toutput = 0\n",
    "\t\t\t\telse:\n",
    "\t\t\t\t\toutput = self.__activation(net)\n",
    "\n",
    "\t\t\t\t_delta = self.c * 0.5 * (self.y_input[step] - output) * self.aug_x[step]\n",
    "\t\t\t\tself.W = self.W + (_delta)\n",
    "\t\t\t\tself.E = self.E + 0.5 * (self.y_input[step] - output) ** 2\n",
    "\t\t\t\tif interactive:\n",
    "\t\t\t\t\tprint('%20s : %s' % ('Outputs (d, O)', (self.y_input[step], output)))\n",
    "\t\t\t\t\tprint('%20s : %s' % ('Error', self.E))\n",
    "\t\t\t\t\tprint('%20s : %s' % ('W (after adjust)', self.W))\n",
    "\t\t\t\tself.p += 1\n",
    "\n",
    "\t\t\tif self.E == 0:\n",
    "\t\t\t\tstop = True\n",
    "\t\t\tself.k += 1\n",
    "\t\t\tif interactive:\n",
    "\t\t\t\tinput()\n",
    "\n",
    "\t\tprint('Training steps required: {}'.format(self.p))\n",
    "\n",
    "if __name__=='__main__':\n",
    "\t# Testing for AND\n",
    "\n",
    "\tX = [[0.8,0.5,0],[0,0.2,0.3],[0.9,0.7,0.3],[0.2,0.1,1.3],[1,0.8,0.5],[0.2,0.7,0.8]]\n",
    "\td = [-1,1,-1,1,-1,1]\n",
    "\tweights = [[0,0,0],[0,0,0],[0,0,0]]\n",
    "\n",
    "\tx = np.array(X)\n",
    "\ty = np.array(d)\n",
    "\ts = DiscretePerceptron(x, y)\n",
    "\ts.init_params()\n",
    "\ts.set_weights(weights)\n",
    "\ts.train()\n",
    "\n",
    "\n",
    "\n",
    "\n",
    "\n"
   ]
  },
  {
   "cell_type": "code",
   "execution_count": null,
   "metadata": {},
   "outputs": [],
   "source": []
  }
 ],
 "metadata": {
  "kernelspec": {
   "display_name": "Python 3",
   "language": "python",
   "name": "python3"
  },
  "language_info": {
   "codemirror_mode": {
    "name": "ipython",
    "version": 3
   },
   "file_extension": ".py",
   "mimetype": "text/x-python",
   "name": "python",
   "nbconvert_exporter": "python",
   "pygments_lexer": "ipython3",
   "version": "3.6.3"
  }
 },
 "nbformat": 4,
 "nbformat_minor": 2
}
