{
 "cells": [
  {
   "cell_type": "markdown",
   "metadata": {},
   "source": [
    "## Name : Omkar Thawakar\n",
    "Reg No : 2015BCS003 , Roll No : A-08\n",
    "##### Aim : Implement multilayer neural network to classify digits"
   ]
  },
  {
   "cell_type": "code",
   "execution_count": 46,
   "metadata": {
    "collapsed": true
   },
   "outputs": [],
   "source": [
    "import numpy as np\n",
    "import matplotlib.pyplot as plt\n",
    "import os\n",
    "import struct\n",
    "import time"
   ]
  },
  {
   "cell_type": "code",
   "execution_count": 5,
   "metadata": {
    "collapsed": true
   },
   "outputs": [],
   "source": [
    "def load_mnist(path, kind='train'):\n",
    "    labels_path = os.path.join(path, \n",
    "                               '%s-labels-idx1-ubyte' \n",
    "                                % kind)\n",
    "    images_path = os.path.join(path, \n",
    "                               '%s-images-idx3-ubyte' \n",
    "                               % kind)\n",
    "    with open(labels_path, 'rb') as lbpath:\n",
    "        magic, n = struct.unpack('>II', \n",
    "                                 lbpath.read(8))\n",
    "        labels = np.fromfile(lbpath, \n",
    "                             dtype=np.uint8)\n",
    "    with open(images_path, 'rb') as imgpath:\n",
    "        magic, num, rows, cols = struct.unpack(\">IIII\", \n",
    "                                               imgpath.read(16))\n",
    "        images = np.fromfile(imgpath, \n",
    "                    dtype=np.uint8).reshape(len(labels), 784)\n",
    "    return images, labels"
   ]
  },
  {
   "cell_type": "code",
   "execution_count": 6,
   "metadata": {
    "collapsed": true
   },
   "outputs": [],
   "source": [
    "images , labels = load_mnist('/Users/omkarchakradharthawakar/NN/mnist/data')"
   ]
  },
  {
   "cell_type": "code",
   "execution_count": 9,
   "metadata": {},
   "outputs": [
    {
     "data": {
      "text/plain": [
       "array([[0, 0, 0, ..., 0, 0, 0],\n",
       "       [0, 0, 0, ..., 0, 0, 0],\n",
       "       [0, 0, 0, ..., 0, 0, 0],\n",
       "       ..., \n",
       "       [0, 0, 0, ..., 0, 0, 0],\n",
       "       [0, 0, 0, ..., 0, 0, 0],\n",
       "       [0, 0, 0, ..., 0, 0, 0]], dtype=uint8)"
      ]
     },
     "execution_count": 9,
     "metadata": {},
     "output_type": "execute_result"
    }
   ],
   "source": [
    "images[:10]"
   ]
  },
  {
   "cell_type": "code",
   "execution_count": 10,
   "metadata": {},
   "outputs": [
    {
     "data": {
      "text/plain": [
       "array([5, 0, 4, 1, 9, 2, 1, 3, 1, 4], dtype=uint8)"
      ]
     },
     "execution_count": 10,
     "metadata": {},
     "output_type": "execute_result"
    }
   ],
   "source": [
    "labels[:10]"
   ]
  },
  {
   "cell_type": "code",
   "execution_count": 44,
   "metadata": {
    "collapsed": true
   },
   "outputs": [],
   "source": [
    "data , d , test = [],[],[]\n",
    "for i,j in zip(images,labels):\n",
    "    if len(data)<=10:\n",
    "        if j in test:\n",
    "            pass\n",
    "        else:\n",
    "            data.append(list(i))\n",
    "            tmp = [0 for i in range(10)]\n",
    "            tmp[j]=1\n",
    "            d.append(tmp)\n",
    "            test.append(j)\n",
    "    "
   ]
  },
  {
   "cell_type": "code",
   "execution_count": 70,
   "metadata": {
    "collapsed": true
   },
   "outputs": [],
   "source": [
    "class NN:\n",
    "    def __init__(self,layers,l1_neurons,l2_neurons,eta=0.1):\n",
    "        self.layers = layers\n",
    "        self.l1_n = l1_neurons\n",
    "        self.l2_n = l2_neurons\n",
    "        self.eta=eta\n",
    "        \n",
    "    def init_weights(self,X):\n",
    "        self.w = np.random.random((self.l2_n,self.l1_n+1))\n",
    "        self.v = np.random.random((self.l1_n,np.array(X).shape[1]+1))\n",
    "        #print(self.v.shape ,'  ',self.w.shape)\n",
    "        \n",
    "    def aug_inputs(self,X):\n",
    "        for x in X:\n",
    "            x.insert(0,-1)\n",
    "        return X\n",
    "    \n",
    "    def train(self,X,outputs,epochs):\n",
    "        self.v = self.v\n",
    "        self.w =self.w\n",
    "        #print(\"Initial Weights : \",self.weights)\n",
    "        X = self.aug_inputs(X)\n",
    "        #print(\"Augmented input pattern : \",X)\n",
    "        self.error_ = []\n",
    "        epoch=1\n",
    "        p = 1\n",
    "        for i in range(epochs):\n",
    "            #print(\"Epoch : \",epoch)\n",
    "            err=0\n",
    "            #calculate the delta for hiden layers\n",
    "            for x,d in zip(X,outputs):\n",
    "                #print(\"Step : \",p)\n",
    "                #calculate output of hidden layer\n",
    "                #print('For hidden layer ......')\n",
    "                out = self.predict(x,self.v)\n",
    "                #print(\"For input pattern : \",x)\n",
    "                #print(\"Output of hidden layer : \",out)\n",
    "                \n",
    "                #calculate output of output layer\n",
    "                #print('for output layer....')\n",
    "                out_inputs = np.insert(out,0,-1) #augmented input pattern of output layer\n",
    "                out_out = self.predict(out_inputs,self.w)\n",
    "                #print(\"output of output layer : \",out_out)\n",
    "                \n",
    "                #Calculate Delta(Error signa term) for output layer\n",
    "                del_w = []\n",
    "\n",
    "                for d_,o_ in zip(d,out_out):\n",
    "                    del_w.append(((d_-o_)*o_*(1-o_)))\n",
    "                #print(\"Error Signal term of output layer : \",del_w)\n",
    "                #print(\"shape of del_w : \",np.array(del_w).shape)\n",
    "                \n",
    "                #Calculate Delta(Error signa term) for hidden layer\n",
    "                del_v = []\n",
    "                for o_ in out:\n",
    "                    for i in range(len(self.w)):\n",
    "                        #for j in range(len(self.w[i])):\n",
    "                        temp_sum=del_w*self.w[:,i]\n",
    "                        #print(np.array(temp_sum).shape)\n",
    "                        #print(o_,temp_sum)\n",
    "                    del_v.append(o_*(1-o_)*sum(temp_sum))\n",
    "                #print(\"Error Signal Term of Hidden layer : \",del_v)\n",
    "                #print(\"shape of del_v : \",np.array(del_v).shape)\n",
    "                \n",
    "                #adjust the weight of output layers\n",
    "                delta_w = []\n",
    "                for _ in del_w:\n",
    "                    delta_w.append(self.eta*_*np.array(out_inputs))\n",
    "                #print(\"$$ : \",delta_w)\n",
    "                #print(\"shape of delta_w : \",np.array(delta_w).shape)\n",
    "                for _ in range(len(self.w)):\n",
    "                    self.w[i] = self.w[i] + delta_w[i]   \n",
    "                #print(\"Adjusted weights of output layer : \",self.w)\n",
    "                \n",
    "                #adjust the weight of hidden layers\n",
    "                delta_v = []\n",
    "                for _ in del_v:\n",
    "                    delta_v.append([(self.eta*_)*i for i in x])\n",
    "                #print(\"$$ : \",delta_v)\n",
    "                #print(\"shape of delta_v : \",np.array(delta_v).shape)\n",
    "                #print(self.v)\n",
    "                self.v = self.v + np.array(delta_v)   \n",
    "                #print('-',self.v)\n",
    "                #print(\"Adjusted weights of hidden layer : \",self.w)\n",
    "                \n",
    "                err = d-out_out   \n",
    "            \n",
    "                p+=1\n",
    "                \n",
    "            self.error_.append(sum(np.array(err)**2)/2)    \n",
    "            epoch+=1\n",
    "            #print(\"weights of hidden layer : \",self.v)\n",
    "            #print(\"weights of output layer : \",self.w)\n",
    "            #print(\"Error : \",sum(np.array(err)**2)/2)\n",
    "            #print('='*100)\n",
    "            if self.error_[-1] <=0.01 :\n",
    "                break \n",
    "                \n",
    "        print(\"Training Steps Required are {} .\".format(p))\n",
    "        print('Final Error : ',self.error_[-1])\n",
    "        \n",
    "        return self\n",
    "                                                                           \n",
    "    def get_weights(self):\n",
    "        return self.weights\n",
    "                                                                           \n",
    "    def net_input(self,X,weights):\n",
    "        return np.dot(weights,X)\n",
    "    \n",
    "    def activation(self,net):\n",
    "        return 1/(1+np.exp(-net))\n",
    "        \n",
    "    def gradient(self,out):\n",
    "        return out*(1-out)\n",
    "    \n",
    "    def predict(self,x,weights):\n",
    "        #print(\"Net : \",self.net_input(np.array(x),weights))\n",
    "        net = self.net_input(np.array(x),weights)\n",
    "        return self.activation(net)\n",
    "        "
   ]
  },
  {
   "cell_type": "code",
   "execution_count": 106,
   "metadata": {
    "scrolled": true
   },
   "outputs": [
    {
     "name": "stdout",
     "output_type": "stream",
     "text": [
      "Training Steps Required are 21001 .\n",
      "Final Error :  3.99988108852\n",
      "Time required for training {} seconds.  213.5882532596588\n"
     ]
    }
   ],
   "source": [
    "data , d , test = [],[],[]\n",
    "for i,j in zip(images,labels):\n",
    "    if len(data)<=20:\n",
    "        if j in test:\n",
    "            data.append(list(i))\n",
    "            tmp = [0 for i in range(10)]\n",
    "            tmp[j]=1\n",
    "            d.append(tmp)\n",
    "            test.append(j)\n",
    "        else:\n",
    "            data.append(list(i))\n",
    "            tmp = [0 for i in range(10)]\n",
    "            tmp[j]=1\n",
    "            d.append(tmp)\n",
    "            test.append(j)\n",
    "\n",
    "nn = NN(2,50,10,eta=0.5)\n",
    "nn.init_weights(data)\n",
    "#print(\"Initial Weights of hidden layer are : \",nn.v)\n",
    "#print(\"Initial Weights of output layer are : \",nn.w)\n",
    "start = time.time()\n",
    "nn.train(data,d,1000)\n",
    "print(\"Time required for training {} seconds. \",time.time()-start)"
   ]
  },
  {
   "cell_type": "code",
   "execution_count": 107,
   "metadata": {},
   "outputs": [
    {
     "data": {
      "image/png": "[encoded data removed]",
      "text/plain": [
       "<matplotlib.figure.Figure at 0x13d2af390>"
      ]
     },
     "metadata": {},
     "output_type": "display_data"
    }
   ],
   "source": [
    "plt.plot(nn.error_)\n",
    "plt.title('Error')\n",
    "plt.show()"
   ]
  },
  {
   "cell_type": "code",
   "execution_count": 87,
   "metadata": {},
   "outputs": [
    {
     "ename": "NameError",
     "evalue": "name 'X' is not defined",
     "output_type": "error",
     "traceback": [
      "\u001b[0;31m---------------------------------------------------------------------------\u001b[0m",
      "\u001b[0;31mNameError\u001b[0m                                 Traceback (most recent call last)",
      "\u001b[0;32m<ipython-input-87-59495646a880>\u001b[0m in \u001b[0;36m<module>\u001b[0;34m()\u001b[0m\n\u001b[0;32m----> 1\u001b[0;31m \u001b[0;32mfor\u001b[0m \u001b[0mi\u001b[0m\u001b[0;34m,\u001b[0m\u001b[0mj\u001b[0m \u001b[0;32min\u001b[0m \u001b[0mzip\u001b[0m\u001b[0;34m(\u001b[0m\u001b[0mX\u001b[0m\u001b[0;34m,\u001b[0m\u001b[0md\u001b[0m\u001b[0;34m)\u001b[0m\u001b[0;34m:\u001b[0m\u001b[0;34m\u001b[0m\u001b[0m\n\u001b[0m\u001b[1;32m      2\u001b[0m     \u001b[0mplt\u001b[0m\u001b[0;34m.\u001b[0m\u001b[0mscatter\u001b[0m\u001b[0;34m(\u001b[0m\u001b[0mi\u001b[0m\u001b[0;34m[\u001b[0m\u001b[0;36m1\u001b[0m\u001b[0;34m]\u001b[0m\u001b[0;34m,\u001b[0m\u001b[0mi\u001b[0m\u001b[0;34m[\u001b[0m\u001b[0;36m2\u001b[0m\u001b[0;34m]\u001b[0m\u001b[0;34m,\u001b[0m\u001b[0mc\u001b[0m\u001b[0;34m=\u001b[0m\u001b[0;34m'k'\u001b[0m \u001b[0;34m,\u001b[0m\u001b[0mmarker\u001b[0m\u001b[0;34m=\u001b[0m\u001b[0;34m'x'\u001b[0m \u001b[0;32mif\u001b[0m \u001b[0mj\u001b[0m\u001b[0;34m==\u001b[0m\u001b[0;34m[\u001b[0m\u001b[0;36m1\u001b[0m\u001b[0;34m]\u001b[0m  \u001b[0;32melse\u001b[0m \u001b[0;34m'o'\u001b[0m \u001b[0;34m)\u001b[0m\u001b[0;34m\u001b[0m\u001b[0m\n\u001b[1;32m      3\u001b[0m \u001b[0;34m\u001b[0m\u001b[0m\n\u001b[1;32m      4\u001b[0m \u001b[0mx\u001b[0m \u001b[0;34m=\u001b[0m \u001b[0mnp\u001b[0m\u001b[0;34m.\u001b[0m\u001b[0marange\u001b[0m\u001b[0;34m(\u001b[0m\u001b[0;34m-\u001b[0m\u001b[0;36m10\u001b[0m\u001b[0;34m,\u001b[0m\u001b[0;36m15\u001b[0m\u001b[0;34m)\u001b[0m\u001b[0;34m\u001b[0m\u001b[0m\n\u001b[1;32m      5\u001b[0m \u001b[0mc1\u001b[0m\u001b[0;34m,\u001b[0m\u001b[0ma1\u001b[0m\u001b[0;34m,\u001b[0m\u001b[0mb1\u001b[0m \u001b[0;34m=\u001b[0m \u001b[0mnn\u001b[0m\u001b[0;34m.\u001b[0m\u001b[0mv\u001b[0m\u001b[0;34m[\u001b[0m\u001b[0;36m0\u001b[0m\u001b[0;34m]\u001b[0m\u001b[0;34m\u001b[0m\u001b[0m\n",
      "\u001b[0;31mNameError\u001b[0m: name 'X' is not defined"
     ]
    }
   ],
   "source": [
    "for i,j in zip(X,d):\n",
    "    plt.scatter(i[1],i[2],c='k' ,marker='x' if j==[1]  else 'o' )\n",
    "    \n",
    "x = np.arange(-10,15)\n",
    "c1,a1,b1 = nn.v[0]\n",
    "y1 = (c1-a1*x)/b1\n",
    "plt.plot(x,y1,c='g',label='{}x+{}y-{}=0'.format(a1,b1,c1))\n",
    "\n",
    "c2,a2,b2 = nn.v[1]\n",
    "y2 = (c2-a2*x)/b2\n",
    "plt.plot(x,y2,c='b',label='{}x+{}y-{}=0'.format(a2,b2,c2))\n",
    "\n",
    "plt.fill_between(x,y1,y2,color='green',alpha=0.4,label='class 1')\n",
    "plt.fill_between(x,y2,-2,color='yellow',alpha=0.4,label='class 0')\n",
    "plt.fill_between(x,y1,2,color='yellow',alpha=0.4)\n",
    "\n",
    "plt.ylim([-2,2])\n",
    "plt.xlim([-2,2])\n",
    "plt.legend()\n",
    "plt.show()"
   ]
  },
  {
   "cell_type": "markdown",
   "metadata": {},
   "source": [
    "### After training weights of hidden layer"
   ]
  },
  {
   "cell_type": "code",
   "execution_count": 88,
   "metadata": {},
   "outputs": [
    {
     "data": {
      "text/plain": [
       "array([[ 0.41430622,  0.53209704,  0.5471202 , ...,  0.06489954,\n",
       "         0.57481145,  0.41177709],\n",
       "       [ 0.72276174,  0.3239302 ,  0.99124838, ...,  0.46855524,\n",
       "         0.84647222,  0.18512392],\n",
       "       [ 0.89469351,  0.94680868,  0.36493098, ...,  0.13262263,\n",
       "         0.5253251 ,  0.70007562],\n",
       "       ..., \n",
       "       [ 0.28398833,  0.37261185,  0.09982285, ...,  0.78721654,\n",
       "         0.20602342,  0.15001274],\n",
       "       [ 0.35706207,  0.35027744,  0.757799  , ...,  0.65098901,\n",
       "         0.07419942,  0.44905928],\n",
       "       [ 0.90434936,  0.14128345,  0.08782541, ...,  0.37765411,\n",
       "         0.60875508,  0.50514086]])"
      ]
     },
     "execution_count": 88,
     "metadata": {},
     "output_type": "execute_result"
    }
   ],
   "source": [
    "nn.v"
   ]
  },
  {
   "cell_type": "markdown",
   "metadata": {},
   "source": [
    "### After training weights of output layer"
   ]
  },
  {
   "cell_type": "code",
   "execution_count": 89,
   "metadata": {},
   "outputs": [
    {
     "data": {
      "text/plain": [
       "array([[ 0.04816786,  0.97721559,  0.61464202, ...,  0.47740747,\n",
       "         0.99920166,  0.67498264],\n",
       "       [ 0.97018825,  0.71804964,  0.1405647 , ...,  0.47684842,\n",
       "         0.8049822 ,  0.75532606],\n",
       "       [ 0.64862337,  0.45507168,  0.23467725, ...,  0.18007904,\n",
       "         0.54929204,  0.54444751],\n",
       "       ..., \n",
       "       [ 0.14326675,  0.32667825,  0.35779881, ...,  0.85016253,\n",
       "         0.49379826,  0.69277037],\n",
       "       [ 0.09606857,  0.84460555,  0.03871215, ...,  0.97857064,\n",
       "         0.82485755,  0.39839814],\n",
       "       [ 0.80464119,  0.97320437,  0.83500125, ...,  0.56271742,\n",
       "         0.6038375 ,  0.46413495]])"
      ]
     },
     "execution_count": 89,
     "metadata": {},
     "output_type": "execute_result"
    }
   ],
   "source": [
    "nn.w"
   ]
  },
  {
   "cell_type": "markdown",
   "metadata": {
    "collapsed": true
   },
   "source": [
    "### Error of Network after training for 10 epochs"
   ]
  },
  {
   "cell_type": "code",
   "execution_count": 90,
   "metadata": {},
   "outputs": [
    {
     "data": {
      "text/plain": [
       "4.5"
      ]
     },
     "execution_count": 90,
     "metadata": {},
     "output_type": "execute_result"
    }
   ],
   "source": [
    "nn.error_[-1]"
   ]
  },
  {
   "cell_type": "code",
   "execution_count": 9,
   "metadata": {},
   "outputs": [
    {
     "data": {
      "image/png": "[encoded data removed]",
      "text/plain": [
       "<matplotlib.figure.Figure at 0x1102bae48>"
      ]
     },
     "metadata": {},
     "output_type": "display_data"
    }
   ],
   "source": []
  },
  {
   "cell_type": "markdown",
   "metadata": {},
   "source": [
    "### Visualization of Decision Boundaries"
   ]
  },
  {
   "cell_type": "code",
   "execution_count": 10,
   "metadata": {},
   "outputs": [
    {
     "data": {
      "image/png": "[encoded data removed]",
      "text/plain": [
       "<matplotlib.figure.Figure at 0x11041dc88>"
      ]
     },
     "metadata": {},
     "output_type": "display_data"
    }
   ],
   "source": []
  },
  {
   "cell_type": "code",
   "execution_count": null,
   "metadata": {
    "collapsed": true
   },
   "outputs": [],
   "source": []
  },
  {
   "cell_type": "code",
   "execution_count": 35,
   "metadata": {},
   "outputs": [
    {
     "data": {
      "text/plain": [
       "array([ 0.43,  0.86,  1.29])"
      ]
     },
     "execution_count": 35,
     "metadata": {},
     "output_type": "execute_result"
    }
   ],
   "source": [
    "np.multiply(0.43,np.array([1,2,3]))"
   ]
  },
  {
   "cell_type": "code",
   "execution_count": 36,
   "metadata": {},
   "outputs": [
    {
     "data": {
      "text/plain": [
       "array([ 0.43,  0.86,  1.29])"
      ]
     },
     "execution_count": 36,
     "metadata": {},
     "output_type": "execute_result"
    }
   ],
   "source": [
    "*0.43*np.array([1,2,3])"
   ]
  },
  {
   "cell_type": "code",
   "execution_count": null,
   "metadata": {
    "collapsed": true
   },
   "outputs": [],
   "source": []
  }
 ],
 "metadata": {
  "kernelspec": {
   "display_name": "Python 3",
   "language": "python",
   "name": "python3"
  },
  "language_info": {
   "codemirror_mode": {
    "name": "ipython",
    "version": 3
   },
   "file_extension": ".py",
   "mimetype": "text/x-python",
   "name": "python",
   "nbconvert_exporter": "python",
   "pygments_lexer": "ipython3",
   "version": "3.6.3"
  }
 },
 "nbformat": 4,
 "nbformat_minor": 2
}
